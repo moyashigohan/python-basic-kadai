{
  "nbformat": 4,
  "nbformat_minor": 0,
  "metadata": {
    "colab": {
      "provenance": []
    },
    "kernelspec": {
      "name": "python3",
      "display_name": "Python 3"
    },
    "language_info": {
      "name": "python"
    }
  },
  "cells": [
    {
      "cell_type": "code",
      "source": [
        "def calculate_total_price(price, tax_rate):\n",
        "\n",
        "    total_price = price * (1 + tax_rate / 100)\n",
        "    return total_price\n",
        "\n",
        "\n",
        "price = 110\n",
        "tax_rate = 10\n",
        "result = calculate_total_price(price, tax_rate)\n",
        "print(f\"消費税込みの合計金額: {result:.2f}円\")\n"
      ],
      "metadata": {
        "colab": {
          "base_uri": "https://localhost:8080/"
        },
        "id": "QJ1nhvilFTpY",
        "outputId": "bb0202b9-f4f8-4b84-ab95-6a2f3ceaa364"
      },
      "execution_count": 6,
      "outputs": [
        {
          "output_type": "stream",
          "name": "stdout",
          "text": [
            "消費税込みの合計金額: 121.00円\n"
          ]
        }
      ]
    }
  ]
}