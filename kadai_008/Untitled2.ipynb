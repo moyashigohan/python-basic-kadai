{
  "nbformat": 4,
  "nbformat_minor": 0,
  "metadata": {
    "colab": {
      "provenance": []
    },
    "kernelspec": {
      "name": "python3",
      "display_name": "Python 3"
    },
    "language_info": {
      "name": "python"
    }
  },
  "cells": [
    {
      "cell_type": "code",
      "source": [
        "var = int(input(\"正の整数を入力してください: \"))\n",
        "\n",
        "if var % 3 == 0 and var % 5 == 0:\n",
        "    print(f\"FizzBuzz\")\n",
        "elif var % 3 == 0:\n",
        "    print(f\"Fizz\")\n",
        "elif var % 5 == 0:\n",
        "    print(f\"Buzz\")\n",
        "else:\n",
        "    print(f\"{var}\")\n"
      ],
      "metadata": {
        "colab": {
          "base_uri": "https://localhost:8080/"
        },
        "id": "ZOU6ToVwiKrX",
        "outputId": "200436b6-fe19-4c58-a3c9-7d407ecb943b"
      },
      "execution_count": 8,
      "outputs": [
        {
          "output_type": "stream",
          "name": "stdout",
          "text": [
            "正の整数を入力してください: １５\n",
            "FizzBuzz\n"
          ]
        }
      ]
    },
    {
      "cell_type": "code",
      "source": [],
      "metadata": {
        "id": "6hZEzn1ZiUYt"
      },
      "execution_count": null,
      "outputs": []
    },
    {
      "cell_type": "code",
      "source": [],
      "metadata": {
        "id": "wZ34kj4VbYST"
      },
      "execution_count": null,
      "outputs": []
    }
  ]
}