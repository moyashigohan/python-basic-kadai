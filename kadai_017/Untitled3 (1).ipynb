{
  "nbformat": 4,
  "nbformat_minor": 0,
  "metadata": {
    "colab": {
      "provenance": []
    },
    "kernelspec": {
      "name": "python3",
      "display_name": "Python 3"
    },
    "language_info": {
      "name": "python"
    }
  },
  "cells": [
    {
      "cell_type": "code",
      "source": [
        "class Human:\n",
        "    def __init__(self, name, age):\n",
        "        self.name = name\n",
        "        self.age = age\n",
        "\n",
        "    def printinfo(self):\n",
        "        print(f\"名前: {self.name}, 年齢: {self.age}歳\")\n",
        "\n",
        "    def check_adult(self):\n",
        "        if self.age >= 20:\n",
        "            print(f\"{self.name}は大人です。\")\n",
        "        else:\n",
        "            print(f\"{self.name}は大人ではありません。\")\n",
        "\n",
        "people = [\n",
        "    Human(\"山田\", 25),\n",
        "    Human(\"澤田\", 18),\n",
        "    Human(\"東海林\", 30),\n",
        "    Human(\"小鳥遊\", 15)\n",
        "]\n",
        "\n",
        "for person in people:\n",
        "    person.check_adult()\n"
      ],
      "metadata": {
        "colab": {
          "base_uri": "https://localhost:8080/"
        },
        "id": "qCs7e-CBq7a0",
        "outputId": "207365fa-4684-489b-fe93-b3bb0ba8d6ba"
      },
      "execution_count": 5,
      "outputs": [
        {
          "output_type": "stream",
          "name": "stdout",
          "text": [
            "山田は大人です。\n",
            "澤田は大人ではありません。\n",
            "東海林は大人です。\n",
            "小鳥遊は大人ではありません。\n"
          ]
        }
      ]
    }
  ]
}