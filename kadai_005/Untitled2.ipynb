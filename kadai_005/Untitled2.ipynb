{
  "nbformat": 4,
  "nbformat_minor": 0,
  "metadata": {
    "colab": {
      "provenance": []
    },
    "kernelspec": {
      "name": "python3",
      "display_name": "Python 3"
    },
    "language_info": {
      "name": "python"
    }
  },
  "cells": [
    {
      "cell_type": "code",
      "execution_count": 4,
      "metadata": {
        "colab": {
          "base_uri": "https://localhost:8080/"
        },
        "id": "EE7LqfOpai55",
        "outputId": "bb80c318-e831-4b64-93a3-7ca7324b1141"
      },
      "outputs": [
        {
          "output_type": "stream",
          "name": "stdout",
          "text": [
            "75.0cm²\n"
          ]
        }
      ],
      "source": [
        "zyouhenn = 10\n",
        "kahenn = 20\n",
        "takasa = 5\n",
        "menseki = (zyouhenn + kahenn) * takasa / 2\n",
        "print(str(menseki) + \"cm²\")\n"
      ]
    },
    {
      "cell_type": "code",
      "source": [],
      "metadata": {
        "id": "wZ34kj4VbYST"
      },
      "execution_count": null,
      "outputs": []
    }
  ]
}